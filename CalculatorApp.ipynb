{
 "cells": [
  {
   "cell_type": "code",
   "execution_count": 1,
   "id": "9171aae0-b20c-49bb-b4ea-645360230fd6",
   "metadata": {},
   "outputs": [
    {
     "name": "stdout",
     "output_type": "stream",
     "text": [
      "Collecting tkNote: you may need to restart the kernel to use updated packages.\n",
      "\n",
      "  Downloading tk-0.1.0-py3-none-any.whl.metadata (693 bytes)\n",
      "Downloading tk-0.1.0-py3-none-any.whl (3.9 kB)\n",
      "Installing collected packages: tk\n",
      "Successfully installed tk-0.1.0\n"
     ]
    }
   ],
   "source": [
    "pip install tk"
   ]
  },
  {
   "cell_type": "code",
   "execution_count": 10,
   "id": "791105ff-67bb-4421-b88a-75cc2d756097",
   "metadata": {},
   "outputs": [],
   "source": [
    "import tkinter as tk\n",
    "from tkinter import messagebox\n",
    "\n",
    "def calculate():\n",
    "    try:\n",
    "        result = eval(entry.get())  \n",
    "        entry.delete(0, tk.END) \n",
    "        entry.insert(tk.END, str(result))  \n",
    "        save_history(entry.get(), result) \n",
    "    except Exception as e:\n",
    "        entry.delete(0, tk.END)\n",
    "        entry.insert(tk.END, \"Error\") \n",
    "\n",
    "def clear():\n",
    "    entry.delete(0, tk.END)\n",
    "\n",
    "#custom function\n",
    "def save_history(expression, result):\n",
    "    with open(\"history.txt\", \"a\") as file:\n",
    "        file.write(f\"{expression} = {result}\\n\")\n",
    "\n",
    "root = tk.Tk()\n",
    "root.title(\"Simple Calculator\")\n",
    "root.geometry(\"300x400\")\n",
    "\n",
    "label = tk.Label(root, text=\"Calculator\", font=(\"Helvetica\", 20))\n",
    "label.pack(pady=10)\n",
    "\n",
    "entry = tk.Entry(root, font=(\"Helvetica\", 16), borderwidth=2, relief=\"solid\", justify=\"right\")\n",
    "entry.pack(padx=10, pady=10, fill=\"x\")\n",
    "\n",
    "button_frame = tk.Frame(root)\n",
    "button_frame.pack()\n",
    "\n",
    "buttons = [\n",
    "    (\"7\", 1, 0), (\"8\", 1, 1), (\"9\", 1, 2), (\"/\", 1, 3),\n",
    "    (\"4\", 2, 0), (\"5\", 2, 1), (\"6\", 2, 2), (\"*\", 2, 3),\n",
    "    (\"1\", 3, 0), (\"2\", 3, 1), (\"3\", 3, 2), (\"-\", 3, 3),\n",
    "    (\"C\", 4, 0), (\"0\", 4, 1), (\"=\", 4, 2), (\"+\", 4, 3),\n",
    "]\n",
    "\n",
    "for (text, row, col) in buttons:\n",
    "    if text == \"=\":\n",
    "        btn = tk.Button(button_frame, text=text, bg=\"#4CAF50\", fg=\"white\", command=calculate, height=2, width=5)\n",
    "    elif text == \"C\":\n",
    "        btn = tk.Button(button_frame, text=text, bg=\"#f44336\", fg=\"white\", command=clear, height=2, width=5)\n",
    "    else:\n",
    "        btn = tk.Button(button_frame, text=text, bg=\"#e0e0e0\", fg=\"#333\", command=lambda t=text: entry.insert(tk.END, t), height=2, width=5)\n",
    "    btn.grid(row=row, column=col)\n",
    "\n",
    "root.mainloop()\n"
   ]
  },
  {
   "cell_type": "code",
   "execution_count": null,
   "id": "9e8ff7e3-1bbf-49a5-9d3a-ffc270f83dd7",
   "metadata": {},
   "outputs": [],
   "source": []
  },
  {
   "cell_type": "code",
   "execution_count": null,
   "id": "89002f91-4f65-4d07-8a41-87864539238c",
   "metadata": {},
   "outputs": [],
   "source": []
  }
 ],
 "metadata": {
  "kernelspec": {
   "display_name": "Python 3 (ipykernel)",
   "language": "python",
   "name": "python3"
  },
  "language_info": {
   "codemirror_mode": {
    "name": "ipython",
    "version": 3
   },
   "file_extension": ".py",
   "mimetype": "text/x-python",
   "name": "python",
   "nbconvert_exporter": "python",
   "pygments_lexer": "ipython3",
   "version": "3.12.4"
  }
 },
 "nbformat": 4,
 "nbformat_minor": 5
}
